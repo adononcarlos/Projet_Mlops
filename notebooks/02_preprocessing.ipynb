{
 "cells": [
  {
   "cell_type": "code",
   "execution_count": 1,
   "id": "d5fcf145",
   "metadata": {},
   "outputs": [],
   "source": [
    "import pandas as pd\n",
    "from sklearn.preprocessing import LabelEncoder"
   ]
  },
  {
   "cell_type": "code",
   "execution_count": 2,
   "id": "49700979",
   "metadata": {},
   "outputs": [],
   "source": [
    "df = pd.read_csv('../data/raw/crop_yield.csv')"
   ]
  },
  {
   "cell_type": "code",
   "execution_count": 3,
   "id": "90cb412d",
   "metadata": {},
   "outputs": [],
   "source": [
    "# Supprimer les lignes avec des valeurs manquantes (à ajuster selon vos besoins)\n",
    "df_clean = df.dropna()"
   ]
  },
  {
   "cell_type": "code",
   "execution_count": 4,
   "id": "78702c43",
   "metadata": {},
   "outputs": [],
   "source": [
    "# Encoder les colonnes catégoriques comme Soil_Type, Crop, etc.\n",
    "categorical_columns = ['Region', 'Soil_Type', 'Crop', 'Weather_Condition']\n",
    "le = LabelEncoder()\n",
    "for col in categorical_columns:\n",
    "    df_clean[col] = le.fit_transform(df_clean[col])"
   ]
  },
  {
   "cell_type": "code",
   "execution_count": 5,
   "id": "eb4b34cb",
   "metadata": {},
   "outputs": [],
   "source": [
    "# Convertir Fertilizer_Used et Irrigation_Used en 0/1\n",
    "df_clean['Fertilizer_Used'] = df_clean['Fertilizer_Used'].astype(int)\n",
    "df_clean['Irrigation_Used'] = df_clean['Irrigation_Used'].astype(int)"
   ]
  },
  {
   "cell_type": "code",
   "execution_count": 6,
   "id": "26e35097",
   "metadata": {},
   "outputs": [
    {
     "name": "stdout",
     "output_type": "stream",
     "text": [
      "Données sauvegardées dans data/processed/cleaned_data.csv\n"
     ]
    }
   ],
   "source": [
    "# Sauvegarder les données prétraitées\n",
    "df_clean.to_csv('../data/processed/cleaned_data.csv', index=False)\n",
    "print(\"Données sauvegardées dans data/processed/cleaned_data.csv\")"
   ]
  }
 ],
 "metadata": {
  "kernelspec": {
   "display_name": "venv",
   "language": "python",
   "name": "python3"
  },
  "language_info": {
   "codemirror_mode": {
    "name": "ipython",
    "version": 3
   },
   "file_extension": ".py",
   "mimetype": "text/x-python",
   "name": "python",
   "nbconvert_exporter": "python",
   "pygments_lexer": "ipython3",
   "version": "3.11.9"
  }
 },
 "nbformat": 4,
 "nbformat_minor": 5
}
